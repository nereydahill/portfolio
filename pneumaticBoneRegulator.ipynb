{
 "cells": [
  {
   "cell_type": "code",
   "execution_count": 1,
   "id": "947980fa-c04b-4dc0-9c3d-87739413b81c",
   "metadata": {},
   "outputs": [],
   "source": [
    "import u3\n",
    "import time\n",
    "import random\n",
    "import threading\n",
    "import csv\n",
    "import pandas as pd"
   ]
  },
  {
   "cell_type": "code",
   "execution_count": 25,
   "id": "5333547b-fabd-4f60-a300-c19543601806",
   "metadata": {},
   "outputs": [
    {
     "data": {
      "text/plain": [
       "'Need to create your own environemnt in order to use the u3 import \\nI did it using Conda and by just inputting the neccessary Libraries Eddie sent me'"
      ]
     },
     "execution_count": 25,
     "metadata": {},
     "output_type": "execute_result"
    }
   ],
   "source": [
    "'''Need to create your own environemnt in order to use the u3 import.\n",
    "Go to LabJack website and download required packages. https://support.labjack.com/docs/python-for-ljm-windows-mac-linux\n",
    "Then I create the environment.'''"
   ]
  },
  {
   "cell_type": "code",
   "execution_count": 2,
   "id": "e5597268-2ed2-4ab7-a72d-c5844b394ff1",
   "metadata": {},
   "outputs": [],
   "source": [
    "# Constant\n",
    "MIN_VOLTAGE_OUT = 0.1\n",
    "MAX_VOLTAGE_OUT = 4.9\n",
    "MIN_VOLTAGE_IN = 0\n",
    "MAX_VOLTAGE_IN = 10\n",
    "MIN_PRESSURE = 0\n",
    "MAX_PRESSURE = 50\n",
    "MIN_DEFLATE = 0\n",
    "MAX_DEFLATE = 25\n",
    "PRESSURE_TOLERANCE = 0.3  # PSI margin for hitting the target"
   ]
  },
  {
   "cell_type": "code",
   "execution_count": 3,
   "id": "a46a38a7-0f7f-453c-8a2b-66043e26258d",
   "metadata": {},
   "outputs": [],
   "source": [
    "#Threading Changes\n",
    "pressure_state = {'TargetPressure': 0}"
   ]
  },
  {
   "cell_type": "code",
   "execution_count": 4,
   "id": "551a0b21-236b-4a12-93eb-80951b2b7a24",
   "metadata": {},
   "outputs": [],
   "source": [
    "# Function to close the solenioid valve\n",
    "def close_solenoid():\n",
    "    d.setFIOState(4, 1)  # Low signal: Solenoid closed\n",
    "    print(f\"Solenoid Valve: CLOSED\")\n",
    "\n",
    "#Function to  open the solenoid valve\n",
    "def open_solenoid():\n",
    "    d.setFIOState(4, 0)  # High signal: Solenoid opened \n",
    "    print(f\"Solenoid Valve: OPEN\")"
   ]
  },
  {
   "cell_type": "code",
   "execution_count": 11,
   "id": "fb7bbd82-22e4-45db-83d0-90037e66edd2",
   "metadata": {},
   "outputs": [],
   "source": [
    "#Function to map one value to another\n",
    "def map(value, from_min, from_max, to_min, to_max):\n",
    "    return (value - from_min) / (from_max - from_min) * (to_max - to_min) + to_min\n",
    "\n",
    "def get_pressure():\n",
    "    try:\n",
    "        #read analog input on AIN2 and convert to volage +-10V\n",
    "        ainValue = d.getAIN(posChannel=2, negChannel=31, longSettle=False, quickSample=False)\n",
    "        #convert to pressure\n",
    "        pressure = map(ainValue, MIN_VOLTAGE_IN, MAX_VOLTAGE_IN, MIN_PRESSURE, MAX_PRESSURE)\n",
    "        return float(pressure)\n",
    "    except Exception as e:\n",
    "        print(f\"Error reading AIN2: {e}\")\n",
    "        return None\n",
    "\n",
    "def set_pressure(pressure):\n",
    "    try:\n",
    "        #offset_pressure = offset(pressure)\n",
    "        regulator_command = map(pressure, MIN_PRESSURE, MAX_PRESSURE, MIN_VOLTAGE_OUT, MAX_VOLTAGE_OUT)\n",
    "        #converts a voltage to bits to DAC specified\n",
    "        DAC0_VALUE = d.voltageToDACBits(volts=regulator_command, dacNumber=0, is16Bits=False)\n",
    "        #dac0 8 bits feedback takes value between 0-255\n",
    "        d.getFeedback(u3.DAC0_8(DAC0_VALUE))\n",
    "        #Dictionary that stores pressure value for target pressure\n",
    "        pressure_state['TargetPressure'] = pressure       \n",
    "        return pressure\n",
    "    except Exception as e:\n",
    "        print(f\"Error writing to DAC0: {e}\")\n",
    "\n",
    "# Function to generate random pressure that represents slippage\n",
    "def random_deflate():\n",
    "    try:\n",
    "        #Generates random values for the balloon to be deflated\n",
    "        value = random.randint(MIN_DEFLATE * 2, (MAX_DEFLATE * 2) - 1)\n",
    "        #Makes it at .5 intervals\n",
    "        value = value / 2\n",
    "        set_pressure(value)\n",
    "        return value\n",
    "    except Exception as e:\n",
    "        print(f\"Input Error: {e}\")\n",
    "        return None\n",
    "        \n",
    "keep_adjusting = True\n",
    "#Makes sure pressure stays the same throughout the code\n",
    "def adjust_pressure(target_pressure, label = \"Target\"):\n",
    "    print(f\"{label}: Setting pressure to...{target_pressure} \")\n",
    "    while keep_adjusting:\n",
    "        current_pressure = get_pressure()\n",
    "        #Checks to see if the current pressure exceeds target pressure, if it does, adjust\n",
    "        if abs(current_pressure - target_pressure) > PRESSURE_TOLERANCE:\n",
    "            print(f\"{label}: Pressure drifting ({current_pressure:.2f} PSI) — adjusting...\")\n",
    "            open_solenoid()\n",
    "            set_pressure(target_pressure)\n",
    "            time.sleep(3)\n",
    "        else:\n",
    "            #print(f\"{label}: Pressure stable at {current_pressure:.2f} PSI\")\n",
    "            close_solenoid() #Once pressure is stable, close solenoid\n",
    "            break\n",
    "\n",
    "def deflate(threshold=0.5):\n",
    "    print(\"Deflation initiated\")\n",
    "    set_pressure(MIN_PRESSURE)\n",
    "    open_solenoid()\n",
    "    #Checks if pressure is below 0.3 before closing solenoid\n",
    "    while get_pressure() >= threshold:\n",
    "        set_pressure(MIN_PRESSURE)\n",
    "        current_pressure = get_pressure()\n",
    "        print(f\"Waiting for balloon to deflate. Current pressure: {current_pressure:.2f} PSI\")\n",
    "        time.sleep(3)\n",
    "    close_solenoid()\n",
    "    print(\"Balloon is deflated.\")\n",
    "\n",
    "def emergency_stop():\n",
    "     print(\"Emergency stop triggered: Deflating and securing system.\")\n",
    "     deflate()\n",
    "     print(\"Emergency stop complete. Solenoid closed and system safe.\")\n",
    "     exit()"
   ]
  },
  {
   "cell_type": "code",
   "execution_count": 12,
   "id": "46b1b265-5311-4615-a50a-544ae7814acb",
   "metadata": {},
   "outputs": [],
   "source": [
    "df = pd.DataFrame(columns=[\"Time\", \"BonePressure\", \"TargetPressure\"])\n",
    "lock = threading.Lock()\n",
    "keep_logging = True  # Flag to stop thread\n",
    "\n",
    "#Saves current pressure, time, and target pressure into a df\n",
    "def log_bone_data():\n",
    "    global df\n",
    "    while keep_logging:\n",
    "        pressure = get_pressure()\n",
    "        timestamp = time.strftime(\"%H:%M:%S\")\n",
    "        with lock: \n",
    "            t_pressure = pressure_state['TargetPressure']\n",
    "            df.loc[len(df)] = [timestamp, pressure, t_pressure]\n",
    "            time.sleep(1)     "
   ]
  },
  {
   "cell_type": "code",
   "execution_count": 13,
   "id": "f44a7f1f-b7c5-4f2e-97d1-1df47404e5b3",
   "metadata": {},
   "outputs": [],
   "source": [
    "#Converts df to csv\n",
    "def df_to_csv():\n",
    "    #Saves the CSV under the timestamp program ends\n",
    "    file_time = time.strftime(\"%H%M\")\n",
    "    file_name = f\"{file_time}.csv\"\n",
    "    df.to_csv(file_name, index= False)\n",
    "    print(f\"Data saved to: {file_name}\")"
   ]
  },
  {
   "cell_type": "code",
   "execution_count": 14,
   "id": "24f50977-f482-403a-b1da-af3588f13664",
   "metadata": {},
   "outputs": [],
   "source": [
    "# Initializes LabJack\n",
    "try:\n",
    "    d = u3.U3()\n",
    "    d.close()\n",
    "    d = u3.U3()\n",
    "except Exception as e:\n",
    "    print(f\"Error opening U3 device: {e}\")\n",
    "    exit()"
   ]
  },
  {
   "cell_type": "code",
   "execution_count": 16,
   "id": "67bf677b-2297-4990-8c20-fe20c7fbc87a",
   "metadata": {},
   "outputs": [
    {
     "name": "stdout",
     "output_type": "stream",
     "text": [
      "Solenoid Valve: OPEN\n",
      "Target: Setting pressure to...25 \n",
      "Target: Pressure drifting (1.85 PSI) — adjusting...\n",
      "Solenoid Valve: OPEN\n",
      "Target: Pressure drifting (20.27 PSI) — adjusting...\n",
      "Solenoid Valve: OPEN\n",
      "Target: Pressure drifting (21.30 PSI) — adjusting...\n",
      "Solenoid Valve: OPEN\n",
      "Target: Pressure drifting (23.21 PSI) — adjusting...\n",
      "Solenoid Valve: OPEN\n",
      "Target: Pressure drifting (24.41 PSI) — adjusting...\n",
      "Solenoid Valve: OPEN\n",
      "Target: Pressure drifting (24.56 PSI) — adjusting...\n",
      "Solenoid Valve: OPEN\n",
      "Target: Pressure drifting (24.66 PSI) — adjusting...\n",
      "Solenoid Valve: OPEN\n",
      "Target: Pressure drifting (24.66 PSI) — adjusting...\n",
      "Solenoid Valve: OPEN\n",
      "Solenoid Valve: CLOSED\n"
     ]
    },
    {
     "name": "stdin",
     "output_type": "stream",
     "text": [
      "Press 's' to tinitiate slip:  s\n"
     ]
    },
    {
     "name": "stdout",
     "output_type": "stream",
     "text": [
      "Solenoid Valve: OPEN\n",
      "Current pressure: 14.439999999999992\n",
      "Current pressure: 13.158879999999993\n",
      "Current pressure: 12.204319999999997\n",
      "Current pressure: 11.526079999999999\n",
      "Current pressure: 11.099039999999993\n",
      "Current pressure: 11.07391999999999\n",
      "Current pressure: 11.400479999999993\n",
      "Current pressure: 10.646879999999994\n",
      "Current pressure: 3.839359999999994\n",
      "Current pressure: 3.713759999999997\n",
      "Slip phase completed.\n"
     ]
    },
    {
     "name": "stdin",
     "output_type": "stream",
     "text": [
      "Press 'd' to initiate deflation:  d\n"
     ]
    },
    {
     "name": "stdout",
     "output_type": "stream",
     "text": [
      "Deflating...\n",
      "Deflation initiated\n",
      "Solenoid Valve: OPEN\n",
      "Waiting for balloon to deflate. Current pressure: 3.14 PSI\n",
      "Solenoid Valve: CLOSED\n",
      "Balloon is deflated.\n",
      "Data saved to: 1407.csv\n"
     ]
    }
   ],
   "source": [
    "try:\n",
    "    #Logging thread\n",
    "    logging_thread = threading.Thread(target=log_bone_data) \n",
    "    logging_thread.start()\n",
    "\n",
    "    #The maximum pressure of the balloon for initialization shouldn't exceed 25 psi\n",
    "    initial_pressure = 25\n",
    "    #Time interval between slips\n",
    "    time_interval = 10  # seconds\n",
    "    slipping = False   \n",
    "\n",
    "    open_solenoid()\n",
    "    set_pressure(initial_pressure)\n",
    "    adjust_pressure(initial_pressure)\n",
    "    start_time = time.time()\n",
    "    \n",
    "    # Wait for slip initiation\n",
    "    while not slipping:\n",
    "        current_time = time.time()\n",
    "        current_pressure = get_pressure()\n",
    "        time.sleep(3)\n",
    "        if (current_time - start_time) >= time_interval:\n",
    "            user_input = input(\"Press 's' to tinitiate slip: \").lower().strip()\n",
    "            if user_input == 's':\n",
    "                slipping = True\n",
    "            else:\n",
    "                print(\"Waiting for slip initiaion. Maintaining initial pressure...\")\n",
    "                time.sleep(5)  # Wait before prompting again\n",
    "\n",
    "    # Start slip\n",
    "    open_solenoid()\n",
    "    slip_pressure = random_deflate() \n",
    "    time.sleep(3)\n",
    "    slip_start_time = time.time()\n",
    "\n",
    "    # Maintain slip pressure for 60 seconds\n",
    "    while (time.time() - slip_start_time) < time_interval:\n",
    "        current_pressure = get_pressure()\n",
    "        print(f\"Current pressure: {current_pressure}\")\n",
    "        time.sleep(1)\n",
    "    print(\"Slip phase completed.\")\n",
    "\n",
    "    # Prompt user to deflate\n",
    "    while True:\n",
    "        user_input = input(\"Press 'd' to initiate deflation: \").lower().strip()\n",
    "        if user_input == 'd':\n",
    "            print(\"Deflating...\")\n",
    "            deflate()\n",
    "            keep_logging = False\n",
    "            break\n",
    "        else:\n",
    "            print(\"Maintaining slip pressure...\")\n",
    "            time.sleep(5)\n",
    "    df_to_csv()        \n",
    "\n",
    "except KeyboardInterrupt:\n",
    "    emergency_stop()\n",
    "    df_to_csv()\n",
    "\n",
    "except Exception as e: \n",
    "    emergency_stop()\n",
    "    df_to_csv()\n",
    "    print(f\"Error occurred: {e}\")    "
   ]
  }
 ],
 "metadata": {
  "kernelspec": {
   "display_name": "Python (ljenv)",
   "language": "python",
   "name": "ljenv"
  },
  "language_info": {
   "codemirror_mode": {
    "name": "ipython",
    "version": 3
   },
   "file_extension": ".py",
   "mimetype": "text/x-python",
   "name": "python",
   "nbconvert_exporter": "python",
   "pygments_lexer": "ipython3",
   "version": "3.13.2"
  }
 },
 "nbformat": 4,
 "nbformat_minor": 5
}
