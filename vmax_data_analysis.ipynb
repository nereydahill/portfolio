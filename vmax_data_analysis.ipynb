{
 "cells": [
  {
   "cell_type": "code",
   "execution_count": null,
   "id": "85d41829-fd99-421d-a151-25d6e62c36a6",
   "metadata": {},
   "outputs": [],
   "source": [
    "#Import necessary libraries\n",
    "import pandas as pd\n",
    "import numpy as np\n",
    "import re"
   ]
  },
  {
   "cell_type": "code",
   "execution_count": null,
   "id": "17d4936c-935d-49f8-8e62-c3183ccbca97",
   "metadata": {},
   "outputs": [],
   "source": [
    "#converts prn file path to a txt file path\n",
    "# Define the input and output file paths\n",
    "prn_file = r\"C:\\Users\\nerey\\Downloads\\0182.prn\".strip('\\\"')\n",
    "txt_file = prn_file.replace(\".prn\", \".txt\")\n",
    "csv_file = prn_file.replace(\"prn\",\"csv\")\n",
    "\n",
    "# Read the content of the prn file\n",
    "readfile = open(prn_file, 'r')\n",
    "data = readfile.read()\n",
    "\n",
    "# Write the content to a text file\n",
    "writefile = open(txt_file, 'w')\n",
    "writefile.write(data)"
   ]
  },
  {
   "cell_type": "code",
   "execution_count": null,
   "id": "d7ade4b2-8672-4636-81da-7588e9d8a1bb",
   "metadata": {},
   "outputs": [],
   "source": [
    "#Version 3.o\n",
    "#Opens text file\n",
    "readfile = open(txt_file, 'r')\n",
    "#Reads text file and stores it into a string object called data\n",
    "data = readfile.read()\n",
    "#Splits up the data by line breaks and sotres it in a list\n",
    "#Each row is an index in the list\n",
    "rows = data.split('\\n')"
   ]
  },
  {
   "cell_type": "code",
   "execution_count": null,
   "id": "b0e6f1fd-b68a-4da2-b32b-0a8844d591e2",
   "metadata": {},
   "outputs": [],
   "source": [
    "# An emppty list to  store each line\n",
    "dfs = []\n",
    "# Define the regular expression pattern\n",
    "pattern = (r\"(\\d{2}:\\d{2}:\\d{2})\"        # Timestamp\n",
    "r\" {4}(\\d{1,4})?\"             # Up to 4 digits for Col2 (can be missing)\n",
    "r\" {3}(\\d{1,5})?\"             # Up to 5 digits for Col3 (can be missing)\n",
    "r\" {3}(\\d{1,5})?\"             # Up to 5 digits for Col4 (can be missing)\n",
    "r\" {4}(\\d{1,4})?\"             # Up to 4 digits for Col5 (can be missing)\n",
    "r\" {5}(\\d{1,3})?\"             # Up to 3 digits for Col6 (can be missing or empty)\n",
    "r\" {3}(\\d{1,5})?\"             # Up to 5 digits for Col7 (can be missing or empty)\n",
    "r\" {3}(\\d{1,5})?\"             # Up to 5 digits for Col8 (can be missing or empty)\n",
    "r\" {5}(\\d{1,4})?\"             # Up to 4 digits for Col9 (can be missing or empty)\n",
    "r\" {4}(\\d{1,4})?\"             # Up to 4 digits for Col10 (can be missing or empty)\n",
    "           )             # 4 spaces, up to 4 digits (or missing)\n",
    "\n",
    "replacement = (\n",
    "    r\"\\1\"      # Timestamp (Group 1)\n",
    "    r\"    \"     # 4 spaces\n",
    "    r\"\\2\"      # Up to 4 digits after 4 spaces (Group 2)\n",
    "    r\"   \"      # 3 spaces\n",
    "    r\"\\3\"      # Up to 5 digits after 3 spaces (Group 3)\n",
    "    r\"   \"      # 3 spaces\n",
    "    r\"\\4\"      # Up to 5 digits after 3 spaces (Group 4)\n",
    "    r\"    \"     # 4 spaces\n",
    "    r\"\\5\"      # Up to 4 digits after 4 spaces (Group 5)\n",
    "    r\"     \"    # 5 spaces\n",
    "    r\"\\6\"      # Up to 3 digits after 5 spaces (Group 6)\n",
    "    r\"   \"      # 3 spaces\n",
    "    r\"\\7\"      # Up to 5 digits after 3 spaces (Group 7)\n",
    "    r\"   \"      # 3 spaces\n",
    "    r\"\\8\"      # Up to 5 digits after 3 spaces (Group 8)\n",
    "    r\"     \"    # 5 spaces\n",
    "    r\"\\9\"      # Up to 4 digits after 5 spaces (Group 9)\n",
    "    r\"    \"     # 4 spaces\n",
    "    r\"\\10\"     # Up to 4 digits after 4 spaces (Group 10)\n",
    ")"
   ]
  },
  {
   "cell_type": "code",
   "execution_count": null,
   "id": "6265dbfb-4ad0-4408-83d0-0b63e5f2ca2a",
   "metadata": {},
   "outputs": [],
   "source": [
    "# Regular expression for timestamp\n",
    "timestamp_pattern = re.compile(r'\\d{2}:\\d{2}:\\d{2}')\n",
    "\n",
    "# Define desired column structure: 10 columns, with NaN as default\n",
    "desired_columns = 10\n",
    "\n",
    "for row in rows:\n",
    "# Check if the row starts with a timestamp\n",
    "    #print(row)\n",
    "    if row and timestamp_pattern.match(row[0]):\n",
    "    #     # Ensure row has the correct number of columns (fill missing columns with NaN)\n",
    "        formatted_row = row[:desired_columns] + [np.nan] * (desired_columns - len(row))\n",
    "        \n",
    "    #     # Replace empty strings with NaN\n",
    "        formatted_row = [val if val else 'NaN' for val in formatted_row]\n",
    "        \n",
    "    #     # Print the reformatted row\n",
    "        print(formatted_row)"
   ]
  },
  {
   "cell_type": "code",
   "execution_count": null,
   "id": "6ed926f8-90dc-4ffb-bbf7-c8852f3eef27",
   "metadata": {},
   "outputs": [],
   "source": [
    "rows = [line.split() for line in data.strip().split('\\n')]\n",
    "print((rows))\n",
    "\n",
    "df = pd.DataFrame(rows)\n",
    "df.fillna('None')\n",
    "# Convert the DataFrame to handle the 'NaN' string correctly\n",
    "df.replace('NaN', np.nan, inplace=True)\n",
    "dfs.append(df)"
   ]
  }
 ],
 "metadata": {
  "kernelspec": {
   "display_name": "Python 3 (ipykernel)",
   "language": "python",
   "name": "python3"
  },
  "language_info": {
   "codemirror_mode": {
    "name": "ipython",
    "version": 3
   },
   "file_extension": ".py",
   "mimetype": "text/x-python",
   "name": "python",
   "nbconvert_exporter": "python",
   "pygments_lexer": "ipython3",
   "version": "3.12.7"
  }
 },
 "nbformat": 4,
 "nbformat_minor": 5
}
